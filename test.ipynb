{
 "cells": [
  {
   "cell_type": "markdown",
   "metadata": {
    "collapsed": false
   },
   "source": [
    "First exercise: count the number of lines in Python for each file"
   ]
  },
  {
   "cell_type": "code",
   "execution_count": 2,
   "metadata": {
    "collapsed": false
   },
   "outputs": [
    {
     "name": "stdout",
     "output_type": "stream",
     "text": [
      "/root/anaconda\n"
     ]
    }
   ],
   "source": [
    "import os\n",
    "print os.getcwd()"
   ]
  },
  {
   "cell_type": "markdown",
   "metadata": {
    "collapsed": true
   },
   "source": [
    "1-st approach"
   ]
  },
  {
   "cell_type": "code",
   "execution_count": null,
   "metadata": {
    "collapsed": false
   },
   "outputs": [],
   "source": [
    "import time\n",
    "filename1='/media/sf_VM_share/bookings.csv'\n",
    "filename2='/media/sf_VM_share/searches.csv'\n",
    "def linecount_1(filename):\n",
    "    return len(open(filename).readlines(  ))\n",
    "\n",
    "print(\"Starting\")\n",
    "start = time.clock(  )\n",
    "print linecount_1(filename1)\n",
    "stend = time.clock(  )\n",
    "thetime = stend-start\n",
    "print 'Time parsing', filename1, thetime\n",
    "\n",
    "start = time.clock(  )\n",
    "#print linecount_1(filename2)\n",
    "stend = time.clock(  )\n",
    "thetime = stend-start\n",
    "print 'Time parsing', filename2, thetime"
   ]
  },
  {
   "cell_type": "markdown",
   "metadata": {
    "collapsed": true
   },
   "source": [
    "2-nd approach"
   ]
  },
  {
   "cell_type": "code",
   "execution_count": 1,
   "metadata": {
    "collapsed": false
   },
   "outputs": [
    {
     "name": "stdout",
     "output_type": "stream",
     "text": [
      "Starting\n",
      "10000011\n",
      "Time parsing /root/bookings.csv 3.594547\n",
      "20390199\n",
      "Time parsing /root/searches.csv 4.463977\n"
     ]
    }
   ],
   "source": [
    "import time\n",
    "filename1='/media/sf_VM_share/bookings.csv'\n",
    "filename2='/media/sf_VM_share/searches.csv'\n",
    "def linecount_2(filename):\n",
    "    n=10\n",
    "    count = 0\n",
    "    for line in open(filename).xreadlines(  ): count += 1\n",
    "    return count\n",
    "\n",
    "print(\"Starting\")\n",
    "start = time.clock(  )\n",
    "print linecount_2(filename1)\n",
    "stend = time.clock(  )\n",
    "thetime = stend-start\n",
    "print 'Time parsing', filename1, thetime\n",
    "\n",
    "start = time.clock(  )\n",
    "print linecount_2(filename2)\n",
    "stend = time.clock(  )\n",
    "thetime = stend-start\n",
    "print 'Time parsing', filename2, thetime"
   ]
  },
  {
   "cell_type": "markdown",
   "metadata": {
    "collapsed": true
   },
   "source": [
    "3-d approach"
   ]
  },
  {
   "cell_type": "code",
   "execution_count": 2,
   "metadata": {
    "collapsed": false
   },
   "outputs": [
    {
     "name": "stdout",
     "output_type": "stream",
     "text": [
      "Starting\n",
      "10000011\n",
      "Time  /root/bookings.csv 3.954198\n",
      "20390198\n",
      "Time  /root/searches.csv 3.610474\n"
     ]
    }
   ],
   "source": [
    "import time\n",
    "filename1='/media/sf_VM_share/bookings.csv'\n",
    "filename2='/media/sf_VM_share/searches.csv'\n",
    "def linecount_3(filename):\n",
    "    count = 0\n",
    "    thefile = open(filename)\n",
    "    while 1:\n",
    "        buffer = thefile.read(65536)\n",
    "        if not buffer: break\n",
    "        count += buffer.count('\\n')\n",
    "    return count\n",
    "print(\"Starting\")\n",
    "start = time.clock(  )\n",
    "print linecount_3(filename1)\n",
    "stend = time.clock(  )\n",
    "thetime = stend-start\n",
    "print 'Time ', filename1, thetime\n",
    "\n",
    "start = time.clock(  )\n",
    "print linecount_3(filename2)\n",
    "stend = time.clock(  )\n",
    "thetime = stend-start\n",
    "print 'Time ', filename2, thetime"
   ]
  },
  {
   "cell_type": "markdown",
   "metadata": {
    "collapsed": true
   },
   "source": [
    "4-th approach"
   ]
  },
  {
   "cell_type": "code",
   "execution_count": null,
   "metadata": {
    "collapsed": false
   },
   "outputs": [],
   "source": [
    "from pandas import DataFrame, read_csv\n",
    "import pandas as pd \n",
    "import time\n",
    "filename1='/media/sf_VM_share/bookings.csv'\n",
    "filename2='/media/sf_VM_share/searches.csv'\n",
    "\n",
    "def linecount_4(filename):\n",
    "    return pd.read_csv(filename, sep=\"^\" ).shape[0]+1\n",
    "\n",
    "print(\"Starting\")\n",
    "start = time.clock(  )    \n",
    "print linecount_4(filename1)\n",
    "stend = time.clock(  )\n",
    "thetime = stend-start\n",
    "print 'Time ',filename1, thetime\n",
    "\n",
    "start = time.clock(  )    \n",
    "print linecount_4(filename2)\n",
    "stend = time.clock(  )\n",
    "thetime = stend-start\n",
    "print 'Time ',filename2, thetime"
   ]
  },
  {
   "cell_type": "markdown",
   "metadata": {},
   "source": [
    "2-nd task"
   ]
  },
  {
   "cell_type": "code",
   "execution_count": 28,
   "metadata": {
    "collapsed": false
   },
   "outputs": [
    {
     "name": "stdout",
     "output_type": "stream",
     "text": [
      "{'fields': ['pax', 'arr_port']}\n",
      "Index([u'LHR     ', u'MCO     ', u'LAX     ', u'LAS     ', u'JFK     ',\n",
      "       u'CDG     ', u'BKK     ', u'MIA     ', u'SFO     ', u'DXB     '],\n",
      "      dtype='object', name=u'arr_port')\n",
      "<class 'pandas.core.frame.DataFrame'>\n",
      "    arr_port    pax\n",
      "LHR      LHR  88809\n",
      "MCO      MCO  70930\n",
      "LAX      LAX  70530\n",
      "LAS      LAS  69630\n",
      "JFK      JFK  66270\n",
      "CDG      CDG  64490\n",
      "BKK      BKK  59460\n",
      "MIA      MIA  58150\n",
      "SFO      SFO  58000\n",
      "DXB      DXB  55590\n"
     ]
    }
   ],
   "source": [
    "import numpy as np\n",
    "import pandas as pd\n",
    "import time\n",
    "filename='/media/sf_VM_share/bookings.csv'\n",
    "data= pd.read_csv(filename, sep='^', nrows=1)\n",
    "#print map(str.strip, data.columns)\n",
    "v=dict(fields= ['pax', 'arr_port'])\n",
    "print v\n",
    "DD=pd.DataFrame()\n",
    "for chunk in pd.read_table(filename, sep=\"^\", chunksize=5000):\n",
    "    chunk.columns=map(str.strip, chunk.columns)\n",
    "    DD=DD.append(chunk.reindex(columns = v['fields'], copy = False)[['arr_port','pax']], ignore_index =True)\n",
    "\n",
    "D1= DD.groupby(\"arr_port\")[\"pax\"].sum().order(ascending=False)[:10]\n",
    "\n",
    "D2=pd.DataFrame(D1)\n",
    "D2.index=map(str.strip,D2.index)\n",
    "D3={'arr_port':D2.index,'pax':D2.pax}\n",
    "df = pd.DataFrame(D3)\n",
    "\n",
    "print df\n",
    "D2=pd.DataFrame(index=map(str.strip,D1.index),data=map(int,D1))\n",
    "\n",
    "\n",
    "\n",
    "df.to_csv('/media/sf_VM_share/dict2.csv', sep=',', index=False)\n",
    "D2.to_json('/media/sf_VM_share/dict2.json')"
   ]
  },
  {
   "cell_type": "markdown",
   "metadata": {},
   "source": [
    "Find airports in Geobases"
   ]
  },
  {
   "cell_type": "code",
   "execution_count": 29,
   "metadata": {
    "collapsed": false
   },
   "outputs": [
    {
     "name": "stdout",
     "output_type": "stream",
     "text": [
      "  arr_port    pax           city\n",
      "0      LHR  88809         London\n",
      "1      MCO  70930        Orlando\n",
      "2      LAX  70530    Los Angeles\n",
      "3      LAS  69630      Las Vegas\n",
      "4      JFK  66270  New York City\n",
      "5      CDG  64490          Paris\n",
      "6      BKK  59460        Bangkok\n",
      "7      MIA  58150          Miami\n",
      "8      SFO  58000  San Francisco\n",
      "9      DXB  55590          Dubai\n"
     ]
    }
   ],
   "source": [
    "import sys\n",
    "sys.path.append('/home/anna/.local/lib/python2.7/site-packages/python_geohash-0.8.5-py2.7-linux-x86_64.egg')\n",
    "sys.path.append('/home/anna/.local/lib/python2.7/site-packages/Fuzzy-1.1-py2.7-linux-x86_64.egg')\n",
    "sys.path.append('/home/anna/.local/lib/python2.7/site-packages/GeoBases-5.0.16-py2.7.egg')\n",
    "sys.path.append('/home/anna/.local/lib/python2.7/site-packages/python_Levenshtein-0.12.0-py2.7-linux-x86_64.egg')\n",
    "import GeoBases\n",
    "from GeoBases import GeoBase\n",
    "geo_o = GeoBase(data='ori_por', verbose=False)\n",
    "res=pd.read_csv('/home/anna/Music/Documents/Amadeus/dict2.csv')\n",
    "cities=[]\n",
    "for x in res['arr_port']:\n",
    "    cities.append(geo_o.get(str.strip(x), 'city_name_ascii'))\n",
    "\n",
    "res['city']=pd.Series(cities, index=res.index)\n",
    "res= res[['arr_port','pax','city']]\n",
    "print res"
   ]
  },
  {
   "cell_type": "markdown",
   "metadata": {},
   "source": [
    "Plot history of searches for 'MAD', 'BCN', 'AGP'"
   ]
  },
  {
   "cell_type": "code",
   "execution_count": 30,
   "metadata": {
    "collapsed": false
   },
   "outputs": [
    {
     "name": "stdout",
     "output_type": "stream",
     "text": [
      "start\n",
      "Time for data read 129.75971\n",
      "ok\n",
      "              AGP    BCN    MAD\n",
      "YearMonth                      \n",
      "2013-01-01   9633  29469  24258\n",
      "2013-02-01   8379  28329  22800\n",
      "2013-03-01  10659  30552  24681\n",
      "2013-04-01   8265  31236  25251\n",
      "2013-05-01  10830  28728  26334\n",
      "2013-06-01   7923  26505  22800\n",
      "2013-07-01   8892  29241  22971\n",
      "2013-08-01   7866  27075  21831\n",
      "2013-09-01   8151  23427  21147\n",
      "2013-10-01   6499  20276  22294\n",
      "2013-11-01   6384  19824  20272\n",
      "2013-12-01   3696  15400  14504\n"
     ]
    },
    {
     "data": {
      "text/plain": [
       "<matplotlib.axes._subplots.AxesSubplot at 0x7fb906a03910>"
      ]
     },
     "execution_count": 30,
     "metadata": {},
     "output_type": "execute_result"
    },
    {
     "data": {
      "image/png": "[encoded data removed]",
      "text/plain": [
       "<matplotlib.figure.Figure at 0x7fb906b18290>"
      ]
     },
     "metadata": {},
     "output_type": "display_data"
    }
   ],
   "source": [
    "import pandas as pd\n",
    "from pandas import *\n",
    "filename='/media/sf_VM_share/searches.csv'\n",
    "#filename='Documents/test_files/3.csv'\n",
    "import matplotlib.pyplot as plt\n",
    "import time\n",
    "import matplotlib\n",
    "from matplotlib.dates import DateFormatter, YearLocator, MonthLocator\n",
    "plt.style.use('ggplot')\n",
    "%matplotlib inline\n",
    "LARGE_FILE = filename\n",
    "CHUNKSIZE = 10000 # processing 100,000 rows at a time\n",
    "\n",
    "def process_frame(df, dest):\n",
    "    return  df.loc[df['Destination'].isin(dest)][['Destination','Date']]\n",
    "\n",
    "reader = pd.read_csv(LARGE_FILE, chunksize=CHUNKSIZE, sep='^')\n",
    "\n",
    "Ndf=pd.DataFrame() \n",
    "Pdf=pd.DataFrame()\n",
    "Adf=pd.DataFrame()\n",
    "DD=pd.DataFrame()\n",
    "r= Ndf.empty\n",
    "dest=['MAD', 'BCN', 'AGP']\n",
    "print 'start'\n",
    "start = time.clock(  )\n",
    "for df in reader:\n",
    "    DD=DD.append(process_frame(df, dest), ignore_index =True)\n",
    "\n",
    "end = time.clock(  )\n",
    "print 'Time for data read',end-start\n",
    "DD['Date']=pd.to_datetime(DD['Date'],format='%Y-%m-%d')\n",
    "DD['YearMonth'] = DD['Date'].map(lambda x: str('{year}-{month}'.format(year=x.year,month=x.month)))\n",
    "\n",
    "DD['YearMonth']=pd.to_datetime(DD['YearMonth'],format='%Y-%m')\n",
    "DD.index=DD['Destination']\n",
    "\n",
    "print 'ok'\n",
    "ts1=DD.loc[DD['Destination']==dest[0]].groupby(['YearMonth'])['Destination'].agg('count')\n",
    "ts2=DD.loc[DD['Destination']==dest[1]].groupby(['YearMonth'])['Destination'].agg('count')\n",
    "ts3=DD.loc[DD['Destination']==dest[2]].groupby(['YearMonth'])['Destination'].agg('count')\n",
    "data = {dest[0] : ts1,dest[1] : ts2, dest[2] : ts3}\n",
    "\n",
    "df = pd.DataFrame(data)\n",
    "print df\n",
    "df.plot()\n"
   ]
  },
  {
   "cell_type": "code",
   "execution_count": 9,
   "metadata": {
    "collapsed": false
   },
   "outputs": [
    {
     "name": "stdout",
     "output_type": "stream",
     "text": [
      "1   2013  AGP     9633\n",
      "2   2013  AGP     8379\n",
      "3   2013  AGP    10659\n",
      "4   2013  AGP     8265\n",
      "5   2013  AGP    10830\n",
      "6   2013  AGP     7923\n",
      "7   2013  AGP     8892\n",
      "8   2013  AGP     7866\n",
      "9   2013  AGP     8151\n",
      "10  2013  AGP     6499\n",
      "11  2013  AGP     6384\n",
      "12  2013  AGP     3696\n",
      "dtype: int64\n"
     ]
    },
    {
     "data": {
      "text/plain": [
       "<matplotlib.axes._subplots.AxesSubplot at 0x112e51450>"
      ]
     },
     "execution_count": 9,
     "metadata": {},
     "output_type": "execute_result"
    },
    {
     "data": {
      "image/png": "[encoded data removed]",
      "text/plain": [
       "<matplotlib.figure.Figure at 0x11d4b9ed0>"
      ]
     },
     "metadata": {},
     "output_type": "display_data"
    }
   ],
   "source": [
    "import pandas as pd\n",
    "from pandas import *\n",
    "filename='/media/sf_VM_share/searches.csv'\n",
    "#filename='Documents/test_files/2.csv'\n",
    "import matplotlib.pyplot as plt\n",
    "import matplotlib\n",
    "%matplotlib inline\n",
    "LARGE_FILE = filename\n",
    "CHUNKSIZE = 100000 \n",
    "\n",
    "def process_frame(df, dest):\n",
    "        return df.loc[df['Destination'] == dest][['Destination','Date']]\n",
    "\n",
    "#reader = pd.read_table(LARGE_FILE, chunksize=CHUNKSIZE )\n",
    "reader = pd.read_csv(LARGE_FILE, chunksize=CHUNKSIZE, sep='^')#, index_col='Destination' )\n",
    "\n",
    "Ndf=pd.DataFrame() \n",
    "Pdf=pd.DataFrame()\n",
    "Adf=pd.DataFrame()\n",
    "r= Ndf.empty\n",
    "for df in reader:\n",
    "    if Ndf.empty:\n",
    "        Ndf=process_frame(df, 'MAD')\n",
    "        Pdf=process_frame(df, 'BCN') \n",
    "        Adf=process_frame(df, 'AGP') \n",
    "         #print Ndf.columns\n",
    "    else:\n",
    "        Ndf=Ndf.append(process_frame(df, 'MAD'), ignore_index =True)\n",
    "        Pdf=Pdf.append(process_frame(df, 'BCN'), ignore_index =True)\n",
    "        Adf=Adf.append(process_frame(df, 'AGP'), ignore_index =True)\n",
    "\n",
    "        \n",
    "Ndf['Date']=pd.to_datetime(Ndf['Date'], unit='ms')\n",
    "Pdf['Date']=pd.to_datetime(Pdf['Date'], unit='ms')\n",
    "\n",
    "Ndf['Date']=pd.to_datetime(Ndf['Date'],format='%Y-%m-%d')\n",
    "Pdf['Date']=pd.to_datetime(Pdf['Date'],format='%Y-%m-%d')\n",
    "Adf['Date']=pd.to_datetime(Adf['Date'],format='%Y-%m-%d')\n",
    "Ndf.index=Ndf['Date']\n",
    "Pdf.index=Pdf['Date']\n",
    "Adf.index=Adf['Date']\n",
    "\n",
    "print pd.groupby(Adf,by=[Adf.index.month, Adf.index.year], as_index=True)['Destination'].value_counts()\n",
    "ts= TimeSeries(pd.groupby(Ndf,by=[Ndf.index.month, Ndf.index.year], as_index=True)['Destination'].value_counts().tolist(), period_range('2013-01', periods=12, freq='M'))\n",
    "ts.plot()\n",
    "ts= TimeSeries(pd.groupby(Pdf,by=[Pdf.index.month, Pdf.index.year], as_index=True)['Destination'].value_counts().tolist(), period_range('2013-01', periods=12, freq='M'))\n",
    "ts.plot()\n",
    "ts= TimeSeries(pd.groupby(Adf,by=[Adf.index.month, Adf.index.year], as_index=True)['Destination'].value_counts().tolist(), period_range('2013-01', periods=12, freq='M'))\n",
    "ts.plot()\n",
    "\n"
   ]
  },
  {
   "cell_type": "markdown",
   "metadata": {
    "collapsed": true
   },
   "source": [
    "Data merging using HDFS"
   ]
  },
  {
   "cell_type": "code",
   "execution_count": null,
   "metadata": {
    "collapsed": true
   },
   "outputs": [],
   "source": [
    "import pandas as pd\n",
    "filename1='/media/sf_VM_share/bookings.csv'\n",
    "filename2='/media/sf_VM_share/searches.csv'\n",
    "import gc\n",
    "gc.collect()\n",
    "A.close()\n",
    "B.close()\n",
    "A = pd.HDFStore('Aw.h5', 'w')\n",
    "B = pd.HDFStore('Bw.h5', 'w')\n",
    "store = pd.HDFStore('mystoree.h5')\n",
    "\n",
    "\n",
    "D2=pd.read_csv(filename2, sep=\"^\", chunksize=100000,usecols=['Date', 'Origin', 'Destination'])\n",
    "\n",
    "k=0\n",
    "objk=['k1','k2','k3','k4','k5','k6', 'k7', 'k8', 'k9', 'k10', 'k11', 'k12', 'k13', 'k14', 'k15', 'k16',\n",
    "      'k17', 'k18', 'k19', 'k120', 'k121', 'k122', 'k123', 'k124']\n",
    "\n",
    "for df in D2:\n",
    "    print df.head(5)\n",
    "    B.append('df', df, min_itemsize={ 'Date' : 100000,'Origin' : 100000,'Destination' : 100000 })#,format='table', data_columns=True)\n",
    "    k=k+1\n",
    "\n",
    "D1=pd.read_csv(filename1, sep=\"^\", usecols=[0,9,12])#'act_date', 'dep_port', 'arr_port'])\n",
    "D1.columns=['Date_booking', 'Origin', 'Destination']\n",
    "\n",
    "A.put('df',pd.read_csv(filename1, sep=\"^\", usecols=[0,9,12]) )\n",
    "#B.put('df',pd.read_csv(filename2, sep=\"^\", usecols=['Date', 'Origin', 'Destination']) )\n",
    "nrows_a = A.get_storer('df').nrows\n",
    "nrows_b = B.get_storer('df').nrows\n",
    "a_chunk_size = 10000\n",
    "b_chunk_size = 10000\n",
    "\n",
    "def merge_a_b(a,b):\n",
    "    a.columns=['Date_booking', 'Origin', 'Destination']\n",
    "    return pd.merge(a, b, on=['Origin', 'Destination'], how='inner')\n",
    "    # function that returns an operation on passed\n",
    "    # frames a and b\n",
    "    # could be a merge, join, concat, or other operation that \n",
    "    # results in a single frame\n",
    "\n",
    "\n",
    "for a in xrange(int(nrows_a / a_chunk_size) + 1):\n",
    "\n",
    "    a_start_i = a * a_chunk_size\n",
    "    a_stop_i  = min((a + 1) * a_chunk_size, nrows_a)\n",
    "\n",
    "    a = A.select('df', start = a_start_i, stop = a_stop_i)\n",
    "\n",
    "    for b in xrange(int(nrows_b / b_chunk_size) + 1):\n",
    "\n",
    "        b_start_i = b * b_chunk_size\n",
    "        b_stop_i = min((b + 1) * b_chunk_size, nrows_b)\n",
    "\n",
    "        b = B.select('df', start = b_start_i, stop = b_stop_i)\n",
    "\n",
    "        # this is your result store\n",
    "        m = merge_a_b(a, b)\n",
    "        print m.head(5)\n",
    "        if len(m):\n",
    "            store.append('df_result', m)"
   ]
  }
 ],
 "metadata": {
  "kernelspec": {
   "display_name": "Python 2",
   "language": "python",
   "name": "python2"
  },
  "language_info": {
   "codemirror_mode": {
    "name": "ipython",
    "version": 2
   },
   "file_extension": ".py",
   "mimetype": "text/x-python",
   "name": "python",
   "nbconvert_exporter": "python",
   "pygments_lexer": "ipython2",
   "version": "2.7.10"
  }
 },
 "nbformat": 4,
 "nbformat_minor": 0
}
