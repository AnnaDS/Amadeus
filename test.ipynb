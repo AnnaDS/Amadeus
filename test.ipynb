{
 "cells": [
  {
   "cell_type": "markdown",
   "metadata": {
    "collapsed": false
   },
   "source": [
    "First exercise: count the number of lines in Python for each file"
   ]
  },
  {
   "cell_type": "code",
   "execution_count": 1,
   "metadata": {
    "collapsed": false
   },
   "outputs": [
    {
     "name": "stdout",
     "output_type": "stream",
     "text": [
      "/Users/Anuta/Amadeus_test\n"
     ]
    }
   ],
   "source": [
    "import os\n",
    "print os.getcwd()"
   ]
  },
  {
   "cell_type": "code",
   "execution_count": null,
   "metadata": {
    "collapsed": true
   },
   "outputs": [],
   "source": [
    "1-st approach"
   ]
  },
  {
   "cell_type": "code",
   "execution_count": 5,
   "metadata": {
    "collapsed": false
   },
   "outputs": [
    {
     "name": "stdout",
     "output_type": "stream",
     "text": [
      "Starting\n",
      "10000011\n",
      "Time  28.528563\n"
     ]
    }
   ],
   "source": [
    "import time\n",
    "filename='test_files/bookings.csv'\n",
    "def linecount_1(filename):\n",
    "    return len(open(filename).readlines(  ))\n",
    "\n",
    "print(\"Starting\")\n",
    "start = time.clock(  )\n",
    "print linecount_1(filename)\n",
    "stend = time.clock(  )\n",
    "thetime = stend-start\n",
    "print 'Time ',thetime"
   ]
  },
  {
   "cell_type": "code",
   "execution_count": null,
   "metadata": {
    "collapsed": true
   },
   "outputs": [],
   "source": [
    "2-nd approach"
   ]
  },
  {
   "cell_type": "code",
   "execution_count": 2,
   "metadata": {
    "collapsed": false
   },
   "outputs": [
    {
     "name": "stdout",
     "output_type": "stream",
     "text": [
      "done\n",
      "10000011\n",
      "4.521256\n"
     ]
    }
   ],
   "source": [
    "import time\n",
    "filename='test_files/bookings.csv'\n",
    "def linecount_2( ):\n",
    "    n=10\n",
    "    count = 0\n",
    "    for line in open(filename).xreadlines(  ): count += 1\n",
    "    return count\n",
    "\n",
    "print(\"Starting\")\n",
    "start = time.clock(  )\n",
    "\n",
    "print linecount_2( )\n",
    "stend = time.clock(  )\n",
    "thetime = stend-start\n",
    "print 'Time ',thetime"
   ]
  },
  {
   "cell_type": "code",
   "execution_count": null,
   "metadata": {
    "collapsed": true
   },
   "outputs": [],
   "source": [
    "3-d approach"
   ]
  },
  {
   "cell_type": "code",
   "execution_count": 22,
   "metadata": {
    "collapsed": false
   },
   "outputs": [
    {
     "name": "stdout",
     "output_type": "stream",
     "text": [
      "done\n",
      "10000011\n",
      "5.8194\n"
     ]
    }
   ],
   "source": [
    "import time\n",
    "filename='test_files/bookings.csv'\n",
    "def linecount_3(filename):\n",
    "    count = 0\n",
    "    thefile = open(filename)\n",
    "    while 1:\n",
    "        buffer = thefile.read(65536)\n",
    "        if not buffer: break\n",
    "        count += buffer.count('\\n')\n",
    "    return count\n",
    "print(\"Starting\")\n",
    "start = time.clock(  )\n",
    "print linecount_3(filename)\n",
    "stend = time.clock(  )\n",
    "thetime = stend-start\n",
    "print 'Time ',thetime"
   ]
  },
  {
   "cell_type": "code",
   "execution_count": 4,
   "metadata": {
    "collapsed": false
   },
   "outputs": [
    {
     "name": "stdout",
     "output_type": "stream",
     "text": [
      "10000011\n",
      "176.282287\n"
     ]
    }
   ],
   "source": [
    "from pandas import DataFrame, read_csv\n",
    "\n",
    "# General syntax to import a library but no functions: \n",
    "##import (library) as (give the library a nickname/alias)\n",
    "import matplotlib.pyplot as plt\n",
    "import pandas as pd #this is how I usually import pandas\n",
    "import sys #only needed to determine Python version number\n",
    "def linecount_4(filename):\n",
    "    return pd.read_csv(filename, sep=\"^\" ).shape[0]+1\n",
    "print(\"Starting\")\n",
    "start = time.clock(  )    \n",
    "filename='test_files/bookings.csv'\n",
    "print linecount_4(filename)\n",
    "stend = time.clock(  )\n",
    "thetime = stend-start\n",
    "print 'Time ',thetime"
   ]
  },
  {
   "cell_type": "code",
   "execution_count": null,
   "metadata": {
    "collapsed": true
   },
   "outputs": [],
   "source": [
    "4-th approach"
   ]
  },
  {
   "cell_type": "code",
   "execution_count": 13,
   "metadata": {
    "collapsed": false
   },
   "outputs": [
    {
     "name": "stdout",
     "output_type": "stream",
     "text": [
      "            pax\n",
      "arr_port       \n",
      "LHR       88809\n",
      "MCO       70930\n",
      "159.815484\n",
      "<class 'pandas.core.frame.DataFrame'>\n"
     ]
    },
    {
     "name": "stderr",
     "output_type": "stream",
     "text": [
      "/Users/Anuta/anaconda/lib/python2.7/site-packages/pandas/io/parsers.py:1170: DtypeWarning: Columns (7,8,27) have mixed types. Specify dtype option on import or set low_memory=False.\n",
      "  data = self._reader.read(nrows)\n"
     ]
    }
   ],
   "source": [
    "from pandas import DataFrame, read_csv\n",
    "import time\n",
    "import matplotlib.pyplot as plt\n",
    "import pandas as pd \n",
    "\n",
    "filename='test_files/bookings.csv'\n",
    "start = time.clock(  )    \n",
    "D=pd.read_csv(filename, sep=\"^\" )\n",
    "D1= pd.DataFrame(D.groupby('arr_port')['pax'].sum()).sort('pax', ascending =[0])\n",
    "print(\"Starting\")\n",
    "stend = time.clock(  )\n",
    "thetime = stend-start\n",
    "print D1[:10]\n",
    "D1[:10].to_csv('test_files/dict2.csv', sep=',')\n"
   ]
  },
  {
   "cell_type": "code",
   "execution_count": 1,
   "metadata": {
    "collapsed": false
   },
   "outputs": [
    {
     "data": {
      "text/plain": [
       "179"
      ]
     },
     "execution_count": 1,
     "metadata": {},
     "output_type": "execute_result"
    }
   ],
   "source": [
    "import gc\n",
    "gc.collect()"
   ]
  },
  {
   "cell_type": "code",
   "execution_count": 9,
   "metadata": {
    "collapsed": false
   },
   "outputs": [
    {
     "name": "stdout",
     "output_type": "stream",
     "text": [
      "1   2013  AGP     9633\n",
      "2   2013  AGP     8379\n",
      "3   2013  AGP    10659\n",
      "4   2013  AGP     8265\n",
      "5   2013  AGP    10830\n",
      "6   2013  AGP     7923\n",
      "7   2013  AGP     8892\n",
      "8   2013  AGP     7866\n",
      "9   2013  AGP     8151\n",
      "10  2013  AGP     6499\n",
      "11  2013  AGP     6384\n",
      "12  2013  AGP     3696\n",
      "dtype: int64\n"
     ]
    },
    {
     "data": {
      "text/plain": [
       "<matplotlib.axes._subplots.AxesSubplot at 0x112e51450>"
      ]
     },
     "execution_count": 9,
     "metadata": {},
     "output_type": "execute_result"
    },
    {
     "data": {
      "image/png": "[encoded data removed]",
      "text/plain": [
       "<matplotlib.figure.Figure at 0x11d4b9ed0>"
      ]
     },
     "metadata": {},
     "output_type": "display_data"
    }
   ],
   "source": [
    "import pandas as pd\n",
    "from pandas import *\n",
    "filename='test_files/searches.csv'\n",
    "#filename='Documents/test_files/2.csv'\n",
    "import matplotlib.pyplot as plt\n",
    "import matplotlib\n",
    "%matplotlib inline\n",
    "LARGE_FILE = filename\n",
    "CHUNKSIZE = 100000 # processing 100,000 rows at a time\n",
    "\n",
    "def process_frame(df, dest):\n",
    "        return df.loc[df['Destination'] == dest][['Destination','Date']]\n",
    "\n",
    "#reader = pd.read_table(LARGE_FILE, chunksize=CHUNKSIZE )\n",
    "reader = pd.read_csv(LARGE_FILE, chunksize=CHUNKSIZE, sep='^')#, index_col='Destination' )\n",
    "\n",
    "Ndf=pd.DataFrame() \n",
    "Pdf=pd.DataFrame()\n",
    "Adf=pd.DataFrame()\n",
    "r= Ndf.empty\n",
    "for df in reader:\n",
    "    if Ndf.empty:\n",
    "        Ndf=process_frame(df, 'MAD')\n",
    "        Pdf=process_frame(df, 'BCN') \n",
    "        Adf=process_frame(df, 'AGP') \n",
    "         #print Ndf.columns\n",
    "    else:\n",
    "        Ndf=Ndf.append(process_frame(df, 'MAD'), ignore_index =True)\n",
    "        Pdf=Pdf.append(process_frame(df, 'BCN'), ignore_index =True)\n",
    "        Adf=Adf.append(process_frame(df, 'AGP'), ignore_index =True)\n",
    "        #print Ndf.shape\n",
    "#print Ndf.head()\n",
    "#print Ndf.shape\n",
    "#Ndf.index=Ndf['Date']\n",
    "Ndf['Date']=pd.to_datetime(Ndf['Date'], unit='ms')\n",
    "Pdf['Date']=pd.to_datetime(Pdf['Date'], unit='ms')\n",
    "Adf['Date']=pd.to_datetime(Adf['Date'], unit='ms')\n",
    "#print Ndf.head()\n",
    "Ndf['Date']=pd.to_datetime(Ndf['Date'],format='%Y-%m-%d')\n",
    "Pdf['Date']=pd.to_datetime(Pdf['Date'],format='%Y-%m-%d')\n",
    "Adf['Date']=pd.to_datetime(Adf['Date'],format='%Y-%m-%d')\n",
    "Ndf.index=Ndf['Date']\n",
    "Pdf.index=Pdf['Date']\n",
    "Adf.index=Adf['Date']\n",
    "#Ndf.set_index(pd.DatetimeIndex(Ndf['Date']))\n",
    "print pd.groupby(Adf,by=[Adf.index.month, Adf.index.year], as_index=True)['Destination'].value_counts()\n",
    "ts= TimeSeries(pd.groupby(Ndf,by=[Ndf.index.month, Ndf.index.year], as_index=True)['Destination'].value_counts().tolist(), period_range('2013-01', periods=12, freq='M'))\n",
    "ts.plot()\n",
    "ts= TimeSeries(pd.groupby(Pdf,by=[Pdf.index.month, Pdf.index.year], as_index=True)['Destination'].value_counts().tolist(), period_range('2013-01', periods=12, freq='M'))\n",
    "ts.plot()\n",
    "ts= TimeSeries(pd.groupby(Adf,by=[Adf.index.month, Adf.index.year], as_index=True)['Destination'].value_counts().tolist(), period_range('2013-01', periods=12, freq='M'))\n",
    "ts.plot()\n",
    "\n",
    "#TT=pd.DataFrame(pd.groupby(Ndf,by=[Ndf.index.month])['Destination'].value_counts().tolist(), index=Ndf['Date'])\n",
    "#print TT\n",
    "#FF=Ndf.groupby(pd.Grouper(key='Date',freq='M'))['Destination '].value_counts()\n"
   ]
  },
  {
   "cell_type": "code",
   "execution_count": null,
   "metadata": {
    "collapsed": true
   },
   "outputs": [],
   "source": []
  }
 ],
 "metadata": {
  "kernelspec": {
   "display_name": "Python 2",
   "language": "python",
   "name": "python2"
  },
  "language_info": {
   "codemirror_mode": {
    "name": "ipython",
    "version": 2
   },
   "file_extension": ".py",
   "mimetype": "text/x-python",
   "name": "python",
   "nbconvert_exporter": "python",
   "pygments_lexer": "ipython2",
   "version": "2.7.10"
  }
 },
 "nbformat": 4,
 "nbformat_minor": 0
}
