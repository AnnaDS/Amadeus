{
 "cells": [
  {
   "cell_type": "markdown",
   "metadata": {
    "collapsed": false
   },
   "source": [
    "First exercise: count the number of lines in Python for each file"
   ]
  },
  {
   "cell_type": "code",
   "execution_count": 8,
   "metadata": {
    "collapsed": false
   },
   "outputs": [
    {
     "name": "stdout",
     "output_type": "stream",
     "text": [
      "/root/.ssh/Amadeus\n"
     ]
    }
   ],
   "source": [
    "import os\n",
    "print os.getcwd()"
   ]
  },
  {
   "cell_type": "markdown",
   "metadata": {
    "collapsed": true
   },
   "source": [
    "1-st approach"
   ]
  },
  {
   "cell_type": "code",
   "execution_count": 1,
   "metadata": {
    "collapsed": false
   },
   "outputs": [
    {
     "name": "stdout",
     "output_type": "stream",
     "text": [
      "Starting\n",
      "10000011\n",
      "Time parsing /media/sf_VM_share/bookings.csv 32.453576\n",
      "20390199\n",
      "Time parsing /media/sf_VM_share/searches.csv 29.887713\n"
     ]
    }
   ],
   "source": [
    "import time\n",
    "filename1='/media/sf_VM_share/bookings.csv'\n",
    "filename2='/media/sf_VM_share/searches.csv'\n",
    "def linecount_2(filename):\n",
    "    n=10\n",
    "    count = 0\n",
    "    for line in open(filename).xreadlines(  ): count += 1\n",
    "    return count\n",
    "\n",
    "print(\"Starting\")\n",
    "start = time.clock(  )\n",
    "print linecount_2(filename1)\n",
    "stend = time.clock(  )\n",
    "thetime = stend-start\n",
    "print 'Time parsing', filename1, thetime\n",
    "\n",
    "start = time.clock(  )\n",
    "print linecount_2(filename2)\n",
    "stend = time.clock(  )\n",
    "thetime = stend-start\n",
    "print 'Time parsing', filename2, thetime"
   ]
  },
  {
   "cell_type": "markdown",
   "metadata": {
    "collapsed": true
   },
   "source": [
    "2-nd approach"
   ]
  },
  {
   "cell_type": "code",
   "execution_count": 2,
   "metadata": {
    "collapsed": false
   },
   "outputs": [
    {
     "name": "stdout",
     "output_type": "stream",
     "text": [
      "Starting\n",
      "10000011\n",
      "Time  /media/sf_VM_share/bookings.csv 14.809917\n",
      "20390198\n",
      "Time  /media/sf_VM_share/searches.csv 13.111294\n"
     ]
    }
   ],
   "source": [
    "import time\n",
    "filename1='/media/sf_VM_share/bookings.csv'\n",
    "filename2='/media/sf_VM_share/searches.csv'\n",
    "def linecount_3(filename):\n",
    "    count = 0\n",
    "    thefile = open(filename)\n",
    "    while 1:\n",
    "        buffer = thefile.read(65536)\n",
    "        if not buffer: break\n",
    "        count += buffer.count('\\n')\n",
    "    return count\n",
    "print(\"Starting\")\n",
    "start = time.clock(  )\n",
    "print linecount_3(filename1)\n",
    "stend = time.clock(  )\n",
    "thetime = stend-start\n",
    "print 'Time ', filename1, thetime\n",
    "\n",
    "start = time.clock(  )\n",
    "print linecount_3(filename2)\n",
    "stend = time.clock(  )\n",
    "thetime = stend-start\n",
    "print 'Time ', filename2, thetime"
   ]
  },
  {
   "cell_type": "markdown",
   "metadata": {},
   "source": [
    "2-nd task"
   ]
  },
  {
   "cell_type": "code",
   "execution_count": 17,
   "metadata": {
    "collapsed": false
   },
   "outputs": [
    {
     "name": "stdout",
     "output_type": "stream",
     "text": [
      "Starting\n",
      "Time  /media/sf_VM_share/bookings.csv 34.895087\n",
      "arr_port\n",
      "LHR         88809\n",
      "MCO         70930\n",
      "LAX         70530\n",
      "LAS         69630\n",
      "JFK         66270\n",
      "Name: pax, dtype: float64\n",
      "            pax\n",
      "arr_port       \n",
      "LHR       88809\n",
      "MCO       70930\n",
      "LAX       70530\n",
      "LAS       69630\n",
      "JFK       66270\n",
      "    arr_port    pax\n",
      "LHR      LHR  88809\n",
      "MCO      MCO  70930\n",
      "LAX      LAX  70530\n",
      "LAS      LAS  69630\n",
      "JFK      JFK  66270\n",
      "CDG      CDG  64490\n",
      "BKK      BKK  59460\n",
      "MIA      MIA  58150\n",
      "SFO      SFO  58000\n",
      "DXB      DXB  55590\n"
     ]
    }
   ],
   "source": [
    "import numpy as np\n",
    "import pandas as pd\n",
    "import time\n",
    "filename='/media/sf_VM_share/bookings.csv'\n",
    "data= pd.read_csv(filename, sep='^', nrows=1)\n",
    "#print map(str.strip, data.columns)\n",
    "v=dict(fields= ['pax', 'arr_port'])\n",
    "DD=pd.DataFrame()\n",
    "print(\"Starting\")\n",
    "start = time.clock(  )\n",
    "for chunk in pd.read_table(filename, sep=\"^\", chunksize=100000, usecols=['arr_port','pax']):\n",
    "    chunk.columns=map(str.strip, chunk.columns)\n",
    "    DD=DD.append(chunk.reindex(columns = ['arr_port', 'pax'], copy = False), ignore_index =True)\n",
    "    #print DD.head()\n",
    "stend = time.clock(  )\n",
    "thetime = stend-start\n",
    "print 'Time ', filename1, thetime\n",
    "\n",
    "D1= DD.groupby(\"arr_port\")[\"pax\"].sum().order(ascending=False)[:10]\n",
    "print D1.head()\n",
    "D2=pd.DataFrame(D1)\n",
    "print pd.DataFrame({'arr_port'=D2.index})D2.head()\n",
    "D2.index=map(str.strip,D2.index)\n",
    "D3={'arr_port':D2.index,'pax':D2.pax}\n",
    "df = pd.DataFrame(D3)\n",
    "\n",
    "print df\n",
    "D2=pd.DataFrame(index=map(str.strip,D1.index),data=map(int,D1))\n",
    "\n",
    "df.to_csv('/media/sf_VM_share/dict2.csv', sep=',', index=False)\n",
    "D2.to_json('/media/sf_VM_share/dict2.json')"
   ]
  },
  {
   "cell_type": "markdown",
   "metadata": {},
   "source": [
    "Find airports in Geobases"
   ]
  },
  {
   "cell_type": "code",
   "execution_count": 4,
   "metadata": {
    "collapsed": false
   },
   "outputs": [
    {
     "name": "stdout",
     "output_type": "stream",
     "text": [
      "  arr_port    pax           city\n",
      "0      LHR  88809         London\n",
      "1      MCO  70930        Orlando\n",
      "2      LAX  70530    Los Angeles\n",
      "3      LAS  69630      Las Vegas\n",
      "4      JFK  66270  New York City\n",
      "5      CDG  64490          Paris\n",
      "6      BKK  59460        Bangkok\n",
      "7      MIA  58150          Miami\n",
      "8      SFO  58000  San Francisco\n",
      "9      DXB  55590          Dubai\n"
     ]
    }
   ],
   "source": [
    "import sys\n",
    "sys.path.append('/home/anna/.local/lib/python2.7/site-packages/python_geohash-0.8.5-py2.7-linux-x86_64.egg')\n",
    "sys.path.append('/home/anna/.local/lib/python2.7/site-packages/Fuzzy-1.1-py2.7-linux-x86_64.egg')\n",
    "sys.path.append('/home/anna/.local/lib/python2.7/site-packages/GeoBases-5.0.16-py2.7.egg')\n",
    "sys.path.append('/home/anna/.local/lib/python2.7/site-packages/python_Levenshtein-0.12.0-py2.7-linux-x86_64.egg')\n",
    "import GeoBases\n",
    "from GeoBases import GeoBase\n",
    "geo_o = GeoBase(data='ori_por', verbose=False)\n",
    "res=pd.read_csv('/media/sf_VM_share/dict2.csv')\n",
    "cities=[]\n",
    "for x in res['arr_port']:\n",
    "    cities.append(geo_o.get(str.strip(x), 'city_name_ascii'))\n",
    "\n",
    "res['city']=pd.Series(cities, index=res.index)\n",
    "res= res[['arr_port','pax','city']]\n",
    "print res"
   ]
  },
  {
   "cell_type": "markdown",
   "metadata": {},
   "source": [
    "Plot history of searches for 'MAD', 'BCN', 'AGP'"
   ]
  },
  {
   "cell_type": "code",
   "execution_count": 20,
   "metadata": {
    "collapsed": false
   },
   "outputs": [
    {
     "name": "stdout",
     "output_type": "stream",
     "text": [
      "              AGP    BCN    MAD\n",
      "YearMonth                      \n",
      "2013-01-01   9633  29469  24258\n",
      "2013-02-01   8379  28329  22800\n",
      "2013-03-01  10659  30552  24681\n",
      "2013-04-01   8265  31236  25251\n",
      "2013-05-01  10830  28728  26334\n",
      "2013-06-01   7923  26505  22800\n",
      "2013-07-01   8892  29241  22971\n",
      "2013-08-01   7866  27075  21831\n",
      "2013-09-01   8151  23427  21147\n",
      "2013-10-01   6499  20276  22294\n",
      "2013-11-01   6384  19824  20272\n",
      "2013-12-01   3696  15400  14504\n"
     ]
    },
    {
     "data": {
      "text/plain": [
       "<matplotlib.axes._subplots.AxesSubplot at 0x7fe744c26310>"
      ]
     },
     "execution_count": 20,
     "metadata": {},
     "output_type": "execute_result"
    },
    {
     "data": {
      "image/png": "[encoded data removed]",
      "text/plain": [
       "<matplotlib.figure.Figure at 0x7fe743537d90>"
      ]
     },
     "metadata": {},
     "output_type": "display_data"
    }
   ],
   "source": [
    "import pandas as pd\n",
    "from pandas import *\n",
    "filename='/media/sf_VM_share/searches.csv'\n",
    "#filename='Documents/test_files/3.csv'\n",
    "import matplotlib.pyplot as plt\n",
    "import time\n",
    "import matplotlib\n",
    "from matplotlib.dates import DateFormatter, YearLocator, MonthLocator\n",
    "plt.style.use('ggplot')\n",
    "%matplotlib inline\n",
    "\n",
    "def process_frame(df, dest):\n",
    "    return  df.loc[df['Destination'].isin(dest)][['Destination','Date']]\n",
    "\n",
    "reader = pd.read_csv(filename, chunksize=100000, sep=\"\\^|\\,\", usecols=['Date',  'Destination'],\n",
    "                     skipinitialspace=True, engine='python')\n",
    "\n",
    "DD=pd.DataFrame()\n",
    "dest=['MAD', 'BCN', 'AGP']\n",
    "\n",
    "for df in reader:\n",
    "    DD=DD.append(process_frame(df, dest), ignore_index =True)\n",
    "\n",
    "end = time.clock(  )\n",
    "DD['Date']=pd.to_datetime(DD['Date'],format='%Y-%m-%d')\n",
    "DD['YearMonth'] = DD['Date'].map(lambda x: str('{year}-{month}'.format(year=x.year,month=x.month)))\n",
    "\n",
    "DD['YearMonth']=pd.to_datetime(DD['YearMonth'],format='%Y-%m')\n",
    "DD.index=DD['Destination']\n",
    "\n",
    "ts1=DD.loc[DD['Destination']==dest[0]].groupby(['YearMonth'])['Destination'].agg('count')\n",
    "ts2=DD.loc[DD['Destination']==dest[1]].groupby(['YearMonth'])['Destination'].agg('count')\n",
    "ts3=DD.loc[DD['Destination']==dest[2]].groupby(['YearMonth'])['Destination'].agg('count')\n",
    "data = {dest[0] : ts1,dest[1] : ts2, dest[2] : ts3}\n",
    "\n",
    "df = pd.DataFrame(data)\n",
    "print df\n",
    "df.plot()\n"
   ]
  },
  {
   "cell_type": "markdown",
   "metadata": {
    "collapsed": true
   },
   "source": [
    "Data merging using HDFS"
   ]
  },
  {
   "cell_type": "code",
   "execution_count": 2,
   "metadata": {
    "collapsed": false
   },
   "outputs": [
    {
     "name": "stdout",
     "output_type": "stream",
     "text": [
      "Fill HDFS with seaches\n",
      "Time 632.193836\n",
      "Fill HDFS with bookings\n",
      "Time 474.756477\n",
      "Merging HDFS\n",
      "Time 25.555384\n",
      "Produce output\n",
      "Time parsing 1963.776152\n"
     ]
    }
   ],
   "source": [
    "import time\n",
    "import gc\n",
    "import numpy as np\n",
    "import pandas as pd\n",
    "from pandas.util.testing import assert_frame_equal\n",
    "\n",
    "filename='/media/sf_VM_share/searches.csv'\n",
    "S = pd.HDFStore('storeS.h5', 'w')\n",
    "\n",
    "# Functions to control date format in input files\n",
    "def check_dates(df, m):\n",
    "    #df=df.apply(lambda x: x.str.strip())\n",
    "    df.index=pd.to_datetime(df.index,format='%Y-%m-%d')\n",
    "    return df.loc[map(lambda x: x==m,map(int,df.index.month))]\n",
    "\n",
    "def check_dates_neg(df, m):\n",
    "    df.index=pd.to_datetime(df.index,format='%Y-%m-%d')\n",
    "    df=df.apply(lambda x: x.str.strip())#if isinstance(x, str) else x)\n",
    "    return df.loc[map(lambda x: x!=m,map(int,df.index.month))]\n",
    "\n",
    "# Storing data from seaches to HDFS month by month\n",
    "#Every object in HDFS \"storeS.h5\" contains only necessary data for merging \n",
    "#(origin and destination with correspondent date) \n",
    "#with the appropriate name of object e.g. month01 -data for Jan 2013\n",
    "#Such type of storing allows to access the data for different periods(months) for merging\n",
    "#searches with bookings\n",
    "#that as assumed were at the same date \n",
    "#process_dfS add the data to HDFS recursively\n",
    "def process_dfS(df):\n",
    "    DD=pd.DataFrame()\n",
    "    m= int(pd.to_datetime(df.index,format='%Y-%m-%d').month[1])\n",
    "    d1=check_dates(df, m)\n",
    "    DD=d1\n",
    "    #print m\n",
    "    S.append(str(\"month\"+str(m)), DD, expectedrows=20390198)\n",
    "    if d1.shape!=df.shape:\n",
    "        df= check_dates_neg(df,m) \n",
    "        if not df.empty:\n",
    "            df= check_dates_neg(df,m)\n",
    "            process_dfS(df)\n",
    "    \n",
    "start = time.clock(  )\n",
    "print 'Fill HDFS with seaches'\n",
    "#Create TextFileReader for iterable reading\n",
    "#The file searches.csv is read chunk by chunk beacause of the size\n",
    "#It requires a lot of RAM to load hole file in the memory \n",
    "reader = pd.read_csv(filename, sep=\"\\^|\\,\", chunksize=10000\n",
    "                     , usecols=['Date', 'Time','Origin', 'Destination'],\n",
    "                     skipinitialspace=True\n",
    "                     ,engine='python')\n",
    "\n",
    "gc.collect()\n",
    "\n",
    "#processing file chunk by chunk; apply process_dfS\n",
    "for df in reader:\n",
    "    df=df.set_index(df.columns.values[0])\n",
    "    process_dfS(df)\n",
    "    gc.collect()\n",
    "\n",
    "diff=time.clock(  )-start\n",
    "print 'Time', diff\n",
    "print 'Fill HDFS with bookings'\n",
    "filename='/media/sf_VM_share/bookings.csv'\n",
    "\n",
    "# create another HDFStore for bookings file to store data in the same format as \n",
    "#storeS.h5 for searches.csv file\n",
    "B = pd.HDFStore('storeB.h5', 'w')\n",
    "\n",
    "# Storing data from bookings.csv to HDFS month by month\n",
    "# \"storeB.h5\" should contain the objects with the same key values as \"storeS.h5\"\n",
    "#process_dfB add the data to HDFS recursively\n",
    "def process_dfB(df):\n",
    "    #print 'start processing'\n",
    "    DD=pd.DataFrame()\n",
    "    m= int(pd.to_datetime(df.index,format='%Y-%m-%d').month[1])\n",
    "    d1=check_dates(df, m)\n",
    "    DD=d1\n",
    "    B.append(str(\"month\"+str(m)), DD, expectedrows=10000011)\n",
    "    if d1.shape!=df.shape:\n",
    "        df= check_dates_neg(df,m)\n",
    "        if not df.empty:\n",
    "            df= check_dates_neg(df,m)\n",
    "            process_dfB(df)\n",
    "#Reading the data from bookings.csv chunk by chunk and adding it to the \"storeB.h5\"   \n",
    "reader = pd.read_csv(filename, sep=\"^\", chunksize=10000\n",
    "                     , usecols=[0,9, 12], error_bad_lines=False,\n",
    "                     skipinitialspace=True\n",
    "                    # ,engine='python'\n",
    "                    )\n",
    "gc.collect()\n",
    "\n",
    "for df in reader:\n",
    "    df['Time']=map(lambda x: x.split(' ')[1],map(str.strip,df[df.columns[0]]))\n",
    "    df[df.columns[0]]=map(lambda x: x.split(' ')[0],map(str.strip,df[df.columns[0]]))\n",
    "    #print df['Time']\n",
    "    pd.to_datetime(df[df.columns[0]],format='%Y-%m-%d')\n",
    "    df=df.set_index(df.columns.values[0])\n",
    "    process_dfB(df)\n",
    "    gc.collect() \n",
    "    \n",
    "diff1=time.clock(  )-start-diff\n",
    "print 'Time', diff1\n",
    "diff=diff+diff1\n",
    "print 'Merging HDFS'\n",
    "\n",
    "#Create the HDFS, which contains only the data of date, origin and destination \n",
    "#that present in the bookings and searches\n",
    "# using matching keys from constructed HDFS\n",
    "\n",
    "M = pd.HDFStore('storeM.h5')\n",
    "\n",
    "#function to merge of two dataFrames\n",
    "def merge_a_b(a,b):\n",
    "    return pd.merge(a, b, on=['index','Origin', 'Destination'], how='inner').drop_duplicates(['index','Origin', 'Destination'])\n",
    "\n",
    "K=B.keys()\n",
    "\n",
    "for x in K:\n",
    "    d1=S.get(x)\n",
    "    d2=B.get(x)\n",
    "    d1 = d1.reset_index()\n",
    "    d2.columns = ['Origin','Destination','Time'] # set names\n",
    "    d2 = d2.reset_index()\n",
    "    M.append('merged', merge_a_b(d1,d2), expectedrows=10000011)\n",
    "    gc.collect()\n",
    "\n",
    "#Adding the flag to searches.csv\n",
    "#If the data in searches match the data (line) in the storeM.h5 the flag 'find_in bookings' will be 1\n",
    "#Otherwise in will be 0\n",
    "\n",
    "#Verify of matching\n",
    "def find_rows(df, DD):\n",
    "    return df['find'].isin(DD['find']).astype(int)\n",
    "\n",
    "#Function to concat olumns in the dataFrame\n",
    "def concat(*args):\n",
    "    strs = [str(arg) for arg in args if not pd.isnull(arg)]\n",
    "    return ','.join(strs) if strs else np.nan\n",
    "    \n",
    "np_concat = np.vectorize(concat)\n",
    "\n",
    "diff1=time.clock(  )-start-diff\n",
    "print 'Time', diff1\n",
    "diff=diff+diff1\n",
    "print 'Produce output'\n",
    "\n",
    "R = pd.HDFStore('storeR.h5')\n",
    "DD= M.get('merged')\n",
    "DD = DD.set_index(['index'])\n",
    "DD.sort_index(inplace=True)\n",
    "DD['Date']=DD.index\n",
    "DD['Date']=map(lambda x: x.split(' ')[0],map(str,DD['Date']))\n",
    "DD['find']=np_concat(DD['Date'], DD['Origin'], DD['Destination'])\n",
    "\n",
    "filename='/media/sf_VM_share/searches.csv'\n",
    "reader = pd.read_csv(filename, sep=\"\\^|\\,\", chunksize=10000\n",
    "                     #, usecols=['Date', 'Time','Origin', 'Destination'],\n",
    "                     ,skipinitialspace=True\n",
    "                     ,engine='python')\n",
    "# Create the column with concated values of the columns that should match in the searches\n",
    "# and storeM.h5\n",
    "#Verify the presence of lines in file searches.csv in HDFS with the data of required values\n",
    "#Store flag in the column 'find_in bookings'\n",
    "#The column 'find' can be deleted or replaced with the values of 'find_in bookings' if neccessary\n",
    "#write data to the file out.csv\n",
    "for df in reader:\n",
    "    df=df.set_index(df.columns.values[0])\n",
    "    df['Date']=df.index\n",
    "    df['find']=np_concat(df['Date'], df['Origin'], df['Destination'])\n",
    "    df['find_in bookings']=find_rows(df, DD)\n",
    "    with open('/media/sf_VM_share/result.csv', 'a') as f:\n",
    "        df.to_csv(f, header=True)\n",
    "    gc.collect()\n",
    "    \n",
    "dtime=time.clock(  )-start    \n",
    "print 'Time parsing',dtime\n",
    "f.close()"
   ]
  },
  {
   "cell_type": "code",
   "execution_count": null,
   "metadata": {
    "collapsed": true
   },
   "outputs": [],
   "source": [
    "import pandas as pd\n",
    "import numpy as np\n",
    "import gc\n",
    "import time\n",
    "\n",
    "filename='/media/sf_VM_share/bookings.csv'\n",
    "\n",
    "def concat(*args):\n",
    "    strs = [str(arg) for arg in args if not pd.isnull(arg)]\n",
    "    return ','.join(strs) if strs else np.nan\n",
    "    \n",
    "np_concat = np.vectorize(concat)\n",
    "        \n",
    "def find_rows(df, DD):\n",
    "    return df.index.isin(DD.index).astype(int)\n",
    "\n",
    "start = time.clock(  )\n",
    "reader = pd.read_csv(filename, sep=\"^\",  usecols=[0,9, 12], error_bad_lines=False,\n",
    "                     skipinitialspace=True\n",
    "                    # ,engine='python'\n",
    "                    )\n",
    "\n",
    "reader['find']=np_concat(map(lambda x: x.split(' ')[0],map(str.strip,reader[reader.columns[0]])), \n",
    "                         map(str.strip,reader[reader.columns[1]]), map(str.strip,reader[reader.columns[2]]))\n",
    "reader.index=reader['find']\n",
    "filename='/media/sf_VM_share/searches.csv'\n",
    "searches = pd.read_csv(filename, sep=\"\\^|\\,\", chunksize=10000,\n",
    "                     skipinitialspace=True\n",
    "                     ,engine='python')\n",
    "out = open('out.csv', 'w')\n",
    "for df in searches:\n",
    "    df['find']=np_concat(map(lambda x: x.split(' ')[0],map(str.strip,df['Date'])), \n",
    "                         map(str.strip,df['Origin']), map(str.strip,df['Destination']))\n",
    "    df.index=df['find']\n",
    "    df['find_in bookings']=find_rows(df, reader)\n",
    "    with open('/media/sf_VM_share/out.csv', 'a') as f:\n",
    "        df.to_csv(f, header=True)\n",
    "    gc.collect()\n",
    "    \n",
    "\n",
    "dtime=time.clock(  )-start\n",
    "print 'Time parsing',dtime"
   ]
  },
  {
   "cell_type": "code",
   "execution_count": null,
   "metadata": {
    "collapsed": true
   },
   "outputs": [],
   "source": []
  }
 ],
 "metadata": {
  "kernelspec": {
   "display_name": "Python 2",
   "language": "python",
   "name": "python2"
  },
  "language_info": {
   "codemirror_mode": {
    "name": "ipython",
    "version": 2
   },
   "file_extension": ".py",
   "mimetype": "text/x-python",
   "name": "python",
   "nbconvert_exporter": "python",
   "pygments_lexer": "ipython2",
   "version": "2.7.10"
  }
 },
 "nbformat": 4,
 "nbformat_minor": 0
}
